{
 "cells": [
  {
   "cell_type": "code",
   "execution_count": 1,
   "metadata": {
    "collapsed": true,
    "deletable": true,
    "editable": true
   },
   "outputs": [],
   "source": [
    "import cv2\n",
    "import numpy as np\n",
    "import keying\n",
    "import projection\n",
    "import imp\n",
    "import time"
   ]
  },
  {
   "cell_type": "code",
   "execution_count": 32,
   "metadata": {
    "collapsed": true
   },
   "outputs": [],
   "source": [
    "import line_profiler"
   ]
  },
  {
   "cell_type": "code",
   "execution_count": 2,
   "metadata": {
    "collapsed": false,
    "deletable": true,
    "editable": true
   },
   "outputs": [
    {
     "data": {
      "text/plain": [
       "<module 'keying' from '/home/ozym4nd145/Coding/Project/Vision_Project/keying.py'>"
      ]
     },
     "execution_count": 2,
     "metadata": {},
     "output_type": "execute_result"
    }
   ],
   "source": [
    "imp.reload(keying)"
   ]
  },
  {
   "cell_type": "code",
   "execution_count": 3,
   "metadata": {
    "collapsed": true,
    "deletable": true,
    "editable": true
   },
   "outputs": [],
   "source": [
    "def show_images(lst):\n",
    "    while True:\n",
    "        for i in lst:\n",
    "            cv2.imshow(i[0],i[1])\n",
    "        ret = cv2.waitKey(0)\n",
    "        if ret==27:\n",
    "            break\n",
    "    cv2.destroyAllWindows()"
   ]
  },
  {
   "cell_type": "code",
   "execution_count": 43,
   "metadata": {
    "collapsed": false,
    "deletable": true,
    "editable": true
   },
   "outputs": [],
   "source": [
    "def project_img(img, bg, mask_corners, key_param, tola=16, tolb=50, low_thresh=0.05, high_thresh=0.25,\n",
    "                erode_sz=3, sz=5, space=200, sat_mul_lo=5, sat_mul_hi=7, scale_blur=20, blur_size=3):\n",
    "    \n",
    "    key_mask = keying.get_mask(\n",
    "        img, key_param[0], tola, tolb, low_thresh, high_thresh, sz, space, erode_sz)\n",
    "    \n",
    "    if not (sat_mul_hi == 0):\n",
    "        mod_img = keying.process_img(img, key_param[1], sat_mul_lo, sat_mul_hi)\n",
    "    else:\n",
    "        mod_img = img\n",
    "\n",
    "    bgra = keying.get_bgra(mod_img, key_mask)\n",
    "\n",
    "    res = projection.project_to_mask(bgra, mask_corners, bg.shape)\n",
    "    \n",
    "    trans_img = res[:, :, :3]  # (x,y,3)\n",
    "    trans_mask = np.expand_dims(\n",
    "        (res[:, :, 3]).astype(np.float32) / 255, -1)  # (x,y)\n",
    "    \n",
    "    result = trans_img*trans_mask + bg*(1-trans_mask)\n",
    "    \n",
    "    if not (scale_blur <= 0 or blur_size<=1):\n",
    "        light_mask = np.expand_dims(\n",
    "            scale_blur * cv2.blur(trans_mask * (1 - trans_mask), (blur_size, blur_size)), -1)\n",
    "        light_mask = np.clip(light_mask, 0.0, 1.0)\n",
    "        light = bg * light_mask\n",
    "        diffl = result * (1 - light_mask)\n",
    "        light_result = (light + diffl).astype(np.uint8)\n",
    "    else:\n",
    "        light_result = result\n",
    "\n",
    "    end_time = time.time()\n",
    "    return light_result"
   ]
  },
  {
   "cell_type": "code",
   "execution_count": 5,
   "metadata": {
    "collapsed": true,
    "deletable": true,
    "editable": true
   },
   "outputs": [],
   "source": [
    "def get_key_param(img):\n",
    "    key_region = keying.get_region(img)\n",
    "    ycrcb = keying.get_params_ycrcb(img,key_region)\n",
    "    hls = keying.get_params_hls(img,key_region)\n",
    "    return (ycrcb,hls)"
   ]
  },
  {
   "cell_type": "markdown",
   "metadata": {
    "deletable": true,
    "editable": true
   },
   "source": [
    "## IMG Test"
   ]
  },
  {
   "cell_type": "code",
   "execution_count": null,
   "metadata": {
    "collapsed": false,
    "deletable": true,
    "editable": true
   },
   "outputs": [],
   "source": [
    "img = cv2.imread(\"./image/twoperson.png\")\n",
    "bg = cv2.imread(\"./image/bg.jpg\")\n",
    "mask = cv2.imread(\"./image/mask.jpg\")\n",
    "\n",
    "key_param = get_key_param(img)\n",
    "mask_corner = projection.get_corners_mask(mask)\n",
    "res,m = project_img(img,bg,mask_corner,key_param)\n",
    "\n",
    "show_images([(\"i\",img),(\"bg\",bg),(\"m\",mask),(\"res\",res)])"
   ]
  },
  {
   "cell_type": "markdown",
   "metadata": {
    "deletable": true,
    "editable": true
   },
   "source": [
    "## Video Test"
   ]
  },
  {
   "cell_type": "code",
   "execution_count": 6,
   "metadata": {
    "collapsed": true,
    "deletable": true,
    "editable": true
   },
   "outputs": [],
   "source": [
    "green_vid_path = \"./video/fight_green.mp4\"\n",
    "# green_vid_path = \"./video/suyash_oneplus.mp4\"\n",
    "env_vid_path = \"./video/fight.avi\"\n",
    "env_mask_path = \"./video/fight_mask.txt\"\n",
    "outp_vid = \"./video/fight_result.mov\"\n",
    "outp_vid_l = \"./video/fight_result_light.mov\""
   ]
  },
  {
   "cell_type": "code",
   "execution_count": 7,
   "metadata": {
    "collapsed": true,
    "deletable": true,
    "editable": true
   },
   "outputs": [],
   "source": [
    "cap_green = cv2.VideoCapture(green_vid_path)\n",
    "cap_vid = cv2.VideoCapture(env_vid_path)"
   ]
  },
  {
   "cell_type": "code",
   "execution_count": 8,
   "metadata": {
    "collapsed": true,
    "deletable": true,
    "editable": true
   },
   "outputs": [],
   "source": [
    "ret,img = cap_green.read()\n",
    "# img = np.transpose(img,[1,0,2])\n",
    "ret,bg = cap_vid.read()\n",
    "with open(env_mask_path,\"r\") as fl:\n",
    "    lines = fl.read().split(\"\\n\")[:-1]\n",
    "    corners = []\n",
    "    for l in lines:\n",
    "        p = [int(a) for a in l.split()]\n",
    "        corners.append([[p[0],p[1]],[p[2],p[3]],[p[4],p[5]],[p[6],p[7]]])\n",
    "    corners = np.array(corners,dtype=np.float32)"
   ]
  },
  {
   "cell_type": "code",
   "execution_count": 9,
   "metadata": {
    "collapsed": false,
    "deletable": true,
    "editable": true
   },
   "outputs": [],
   "source": [
    "key_param = get_key_param(img)"
   ]
  },
  {
   "cell_type": "code",
   "execution_count": 10,
   "metadata": {
    "collapsed": true,
    "deletable": true,
    "editable": true
   },
   "outputs": [],
   "source": [
    "fourcc = cv2.VideoWriter_fourcc(*'XVID')\n",
    "fps = cap_vid.get(5)\n",
    "vid = cv2.VideoWriter(outp_vid,fourcc, fps, (bg.shape[1],bg.shape[0]))"
   ]
  },
  {
   "cell_type": "code",
   "execution_count": 11,
   "metadata": {
    "collapsed": true
   },
   "outputs": [],
   "source": [
    "iteration = 0\n",
    "end_iter = len(corners)"
   ]
  },
  {
   "cell_type": "code",
   "execution_count": 14,
   "metadata": {
    "collapsed": false,
    "deletable": true,
    "editable": true
   },
   "outputs": [
    {
     "name": "stdout",
     "output_type": "stream",
     "text": [
      "0.20133662223815918\n",
      "0.1522974967956543\n",
      "0.13595247268676758\n",
      "0.1395552158355713\n",
      "0.14001131057739258\n",
      "0.13579726219177246\n",
      "0.13793587684631348\n",
      "0.13484454154968262\n",
      "0.13934755325317383\n",
      "0.13616251945495605\n",
      "0.16551947593688965\n",
      "0.14013409614562988\n",
      "0.13527297973632812\n",
      "0.13132333755493164\n",
      "0.13773465156555176\n",
      "0.1269087791442871\n",
      "0.13303327560424805\n",
      "0.1325390338897705\n",
      "0.128753662109375\n",
      "0.12716341018676758\n",
      "0.14754724502563477\n",
      "0.12554168701171875\n",
      "0.13181161880493164\n",
      "0.13381528854370117\n",
      "0.13975977897644043\n"
     ]
    },
    {
     "ename": "NameError",
     "evalue": "name 'livid' is not defined",
     "output_type": "error",
     "traceback": [
      "\u001b[0;31m---------------------------------------------------------------------------\u001b[0m",
      "\u001b[0;31mNameError\u001b[0m                                 Traceback (most recent call last)",
      "\u001b[0;32m<ipython-input-14-b9bf78028740>\u001b[0m in \u001b[0;36m<module>\u001b[0;34m()\u001b[0m\n\u001b[1;32m     25\u001b[0m \u001b[0mcv2\u001b[0m\u001b[0;34m.\u001b[0m\u001b[0mdestroyAllWindows\u001b[0m\u001b[0;34m(\u001b[0m\u001b[0;34m)\u001b[0m\u001b[0;34m\u001b[0m\u001b[0m\n\u001b[1;32m     26\u001b[0m \u001b[0mvid\u001b[0m\u001b[0;34m.\u001b[0m\u001b[0mrelease\u001b[0m\u001b[0;34m(\u001b[0m\u001b[0;34m)\u001b[0m\u001b[0;34m\u001b[0m\u001b[0m\n\u001b[0;32m---> 27\u001b[0;31m \u001b[0mlivid\u001b[0m\u001b[0;34m.\u001b[0m\u001b[0mrelease\u001b[0m\u001b[0;34m(\u001b[0m\u001b[0;34m)\u001b[0m\u001b[0;34m\u001b[0m\u001b[0m\n\u001b[0m",
      "\u001b[0;31mNameError\u001b[0m: name 'livid' is not defined"
     ]
    }
   ],
   "source": [
    "while True:\n",
    "    start_t = time.time()\n",
    "    ret1,img = cap_green.read()\n",
    "    ret2,bg = cap_vid.read()\n",
    "    \n",
    "    if (not(ret1 and ret2 and(iteration != end_iter))):\n",
    "        break\n",
    "        \n",
    "#     res = project_img(img,bg,corners[iteration],key_param)\n",
    "    res = project_img(img, bg, corners[iteration], key_param, tola = 16 ,tolb = 50 ,\n",
    "                          low_thresh = 0.05 ,high_thresh = 0.25 ,erode_sz = 0 ,\n",
    "                          sz = 0 ,space = 0 ,sat_mul_lo = 0 ,sat_mul_hi = 0 ,\n",
    "                          scale_blur = 0 ,blur_size = 0)\n",
    "#     vid.write(res)\n",
    "    \n",
    "    end_time = time.time()\n",
    "    print(end_time-start_t)\n",
    "    \n",
    "    cv2.imshow(\"result\",res)\n",
    "    ret = cv2.waitKey(20)\n",
    "    if ret==27:\n",
    "        break\n",
    "    \n",
    "    iteration += 1\n",
    "cv2.destroyAllWindows()\n",
    "vid.release()"
   ]
  },
  {
   "cell_type": "code",
   "execution_count": 40,
   "metadata": {
    "collapsed": false
   },
   "outputs": [
    {
     "name": "stdout",
     "output_type": "stream",
     "text": [
      "10 loops, best of 2: 185 ms per loop\n"
     ]
    }
   ],
   "source": [
    "%timeit -n 10 -r 2 project_img(img, bg, corners[iteration], key_param)"
   ]
  },
  {
   "cell_type": "code",
   "execution_count": 41,
   "metadata": {
    "collapsed": true
   },
   "outputs": [],
   "source": [
    "%lprun -f project_img project_img(img, bg, corners[iteration], key_param, tola = 16 ,tolb = 50 ,low_thresh = 0.05 ,high_thresh = 0.25 ,erode_sz = 0 ,sz = 0 ,space = 0 ,sat_mul_lo = 0 ,sat_mul_hi = 0 ,scale_blur = 0 ,blur_size = 0)"
   ]
  },
  {
   "cell_type": "code",
   "execution_count": 42,
   "metadata": {
    "collapsed": true
   },
   "outputs": [],
   "source": [
    "%lprun -f project_img project_img(img, bg, corners[iteration], key_param)"
   ]
  },
  {
   "cell_type": "code",
   "execution_count": 67,
   "metadata": {
    "collapsed": false,
    "deletable": true,
    "editable": true
   },
   "outputs": [
    {
     "name": "stdout",
     "output_type": "stream",
     "text": [
      "The line_profiler extension is already loaded. To reload it, use:\n",
      "  %reload_ext line_profiler\n"
     ]
    }
   ],
   "source": [
    "%load_ext line_profiler"
   ]
  }
 ],
 "metadata": {
  "kernelspec": {
   "display_name": "Python 3",
   "language": "python",
   "name": "python3"
  },
  "language_info": {
   "codemirror_mode": {
    "name": "ipython",
    "version": 3
   },
   "file_extension": ".py",
   "mimetype": "text/x-python",
   "name": "python",
   "nbconvert_exporter": "python",
   "pygments_lexer": "ipython3",
   "version": "3.5.2"
  }
 },
 "nbformat": 4,
 "nbformat_minor": 2
}
