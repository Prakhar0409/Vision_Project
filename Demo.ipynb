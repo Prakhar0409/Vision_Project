{
 "cells": [
  {
   "cell_type": "code",
   "execution_count": 1,
   "metadata": {
    "collapsed": true,
    "deletable": true,
    "editable": true
   },
   "outputs": [],
   "source": [
    "import cv2\n",
    "import numpy as np\n",
    "import keying\n",
    "import projection\n",
    "import imp\n",
    "import time"
   ]
  },
  {
   "cell_type": "code",
   "execution_count": 13,
   "metadata": {
    "collapsed": false,
    "deletable": true,
    "editable": true
   },
   "outputs": [
    {
     "data": {
      "text/plain": [
       "<module 'keying' from '/home/ozym4nd145/Coding/Project/Vision_Project/keying.py'>"
      ]
     },
     "execution_count": 13,
     "metadata": {},
     "output_type": "execute_result"
    }
   ],
   "source": [
    "imp.reload(keying)"
   ]
  },
  {
   "cell_type": "code",
   "execution_count": 14,
   "metadata": {
    "collapsed": true,
    "deletable": true,
    "editable": true
   },
   "outputs": [],
   "source": [
    "def show_images(lst):\n",
    "    while True:\n",
    "        for i in lst:\n",
    "            cv2.imshow(i[0],i[1])\n",
    "        ret = cv2.waitKey(0)\n",
    "        if ret==27:\n",
    "            break\n",
    "    cv2.destroyAllWindows()"
   ]
  },
  {
   "cell_type": "code",
   "execution_count": 33,
   "metadata": {
    "collapsed": false,
    "deletable": true,
    "editable": true
   },
   "outputs": [],
   "source": [
    "def project_img(img, bg, mask_corners, key_param, tola=16, tolb=50, low_thresh=0.05, erode_sz=3,\n",
    "                high_thresh=0.25, sz=5, space=200, sat_mul_lo=5, sat_mul_hi=7,scale_blur=20,blur_size=3):\n",
    "    key_mask = keying.get_mask(\n",
    "        img, key_param[0], tola, tolb, low_thresh, high_thresh, sz, space, erode_sz)\n",
    "    mod_img = keying.process_img(img, key_param[1], sat_mul_lo, sat_mul_hi)\n",
    "\n",
    "    bgra = keying.get_bgra(mod_img, key_mask)\n",
    "    res = projection.project_to_mask(bgra, mask_corners, bg.shape)\n",
    "    trans_img = res[:, :, :3]  # (x,y,3)\n",
    "    trans_mask = np.expand_dims(\n",
    "        (res[:, :, 3]).astype(np.float32) / 255, -1)  # (x,y)\n",
    "\n",
    "#     r1 = np.multiply(trans_img,trans_mask)\n",
    "    t_mask = np.tile(trans_mask, 3)\n",
    "\n",
    "    trans_img = trans_img.astype(np.float32)\n",
    "    bg = bg.astype(np.float32)\n",
    "\n",
    "    r1 = cv2.multiply(trans_img, t_mask)\n",
    "    r2 = cv2.multiply(bg, 1 - t_mask)\n",
    "\n",
    "    result = cv2.add(r1, r2)\n",
    "    result = result.astype(np.uint8)\n",
    "\n",
    "    light_mask = np.expand_dims(\n",
    "        scale_blur * cv2.blur(trans_mask * (1 - trans_mask), (blur_size, blur_size)), -1)\n",
    "    # light_mask = keying.mod_mask(light_mask, 0, 1.0)\n",
    "    light_mask = np.clip(light_mask, 0.0, 1.0)\n",
    "    light = bg * light_mask\n",
    "    diffl = result * (1 - light_mask)\n",
    "    light_result = (light + diffl).astype(np.uint8)\n",
    "\n",
    "    return light_result"
   ]
  },
  {
   "cell_type": "code",
   "execution_count": 16,
   "metadata": {
    "collapsed": true,
    "deletable": true,
    "editable": true
   },
   "outputs": [],
   "source": [
    "def get_key_param(img):\n",
    "    key_region = keying.get_region(img)\n",
    "    ycrcb = keying.get_params_ycrcb(img,key_region)\n",
    "    hls = keying.get_params_hls(img,key_region)\n",
    "    return (ycrcb,hls)"
   ]
  },
  {
   "cell_type": "markdown",
   "metadata": {
    "deletable": true,
    "editable": true
   },
   "source": [
    "## IMG Test"
   ]
  },
  {
   "cell_type": "code",
   "execution_count": null,
   "metadata": {
    "collapsed": false,
    "deletable": true,
    "editable": true
   },
   "outputs": [],
   "source": [
    "img = cv2.imread(\"./image/twoperson.png\")\n",
    "bg = cv2.imread(\"./image/bg.jpg\")\n",
    "mask = cv2.imread(\"./image/mask.jpg\")\n",
    "\n",
    "key_param = get_key_param(img)\n",
    "mask_corner = projection.get_corners_mask(mask)\n",
    "res,m = project_img(img,bg,mask_corner,key_param)\n",
    "\n",
    "show_images([(\"i\",img),(\"bg\",bg),(\"m\",mask),(\"res\",res)])"
   ]
  },
  {
   "cell_type": "markdown",
   "metadata": {
    "deletable": true,
    "editable": true
   },
   "source": [
    "## Video Test"
   ]
  },
  {
   "cell_type": "code",
   "execution_count": 39,
   "metadata": {
    "collapsed": true,
    "deletable": true,
    "editable": true
   },
   "outputs": [],
   "source": [
    "green_vid_path = \"./video/fight_green.mp4\"\n",
    "# green_vid_path = \"./video/suyash_oneplus.mp4\"\n",
    "env_vid_path = \"./video/fight.avi\"\n",
    "env_mask_path = \"./video/fight_mask.txt\"\n",
    "outp_vid = \"./video/fight_result.mov\"\n",
    "outp_vid_l = \"./video/fight_result_light.mov\""
   ]
  },
  {
   "cell_type": "code",
   "execution_count": 40,
   "metadata": {
    "collapsed": true,
    "deletable": true,
    "editable": true
   },
   "outputs": [],
   "source": [
    "cap_green = cv2.VideoCapture(green_vid_path)\n",
    "cap_vid = cv2.VideoCapture(env_vid_path)"
   ]
  },
  {
   "cell_type": "code",
   "execution_count": 41,
   "metadata": {
    "collapsed": true,
    "deletable": true,
    "editable": true
   },
   "outputs": [],
   "source": [
    "ret,img = cap_green.read()\n",
    "# img = np.transpose(img,[1,0,2])\n",
    "ret,bg = cap_vid.read()\n",
    "with open(env_mask_path,\"r\") as fl:\n",
    "    lines = fl.read().split(\"\\n\")[:-1]\n",
    "    corners = []\n",
    "    for l in lines:\n",
    "        p = [int(a) for a in l.split()]\n",
    "        corners.append([[p[0],p[1]],[p[2],p[3]],[p[4],p[5]],[p[6],p[7]]])\n",
    "    corners = np.array(corners,dtype=np.float32)\n",
    "\n",
    "scale = 2\n",
    "img = cv2.resize(img, (img.shape[1] // scale, img.shape[0] // scale))\n",
    "bg = cv2.resize(bg, (bg.shape[1] // scale, bg.shape[0] // scale))\n",
    "corners = corners/2        "
   ]
  },
  {
   "cell_type": "code",
   "execution_count": 42,
   "metadata": {
    "collapsed": false,
    "deletable": true,
    "editable": true
   },
   "outputs": [],
   "source": [
    "key_param = get_key_param(img)"
   ]
  },
  {
   "cell_type": "code",
   "execution_count": 43,
   "metadata": {
    "collapsed": true,
    "deletable": true,
    "editable": true
   },
   "outputs": [],
   "source": [
    "fourcc = cv2.VideoWriter_fourcc(*'XVID')\n",
    "fps = cap_vid.get(5)\n",
    "vid = cv2.VideoWriter(outp_vid,fourcc, fps, (bg.shape[1],bg.shape[0]))"
   ]
  },
  {
   "cell_type": "code",
   "execution_count": 46,
   "metadata": {
    "collapsed": true
   },
   "outputs": [],
   "source": [
    "iteration = 0\n",
    "end_iter = len(corners)"
   ]
  },
  {
   "cell_type": "code",
   "execution_count": 45,
   "metadata": {
    "collapsed": false,
    "deletable": true,
    "editable": true
   },
   "outputs": [
    {
     "name": "stdout",
     "output_type": "stream",
     "text": [
      "0.14176392555236816\n",
      "0.08239388465881348\n",
      "0.07628464698791504\n",
      "0.10295867919921875\n",
      "0.1276395320892334\n",
      "0.08257937431335449\n",
      "0.08591294288635254\n",
      "0.07347273826599121\n",
      "0.08033204078674316\n",
      "0.07332706451416016\n",
      "0.07250046730041504\n",
      "0.0870506763458252\n",
      "0.11345887184143066\n",
      "0.08999037742614746\n",
      "0.11895060539245605\n",
      "0.0831303596496582\n",
      "0.07381224632263184\n",
      "0.08223986625671387\n",
      "0.0767052173614502\n",
      "0.09910821914672852\n",
      "0.08750581741333008\n",
      "0.09988975524902344\n",
      "0.09697294235229492\n",
      "0.13207006454467773\n",
      "0.08905601501464844\n",
      "0.07490396499633789\n",
      "0.07547616958618164\n",
      "0.0787358283996582\n",
      "0.07694268226623535\n",
      "0.07787680625915527\n",
      "0.08949613571166992\n",
      "0.08048629760742188\n",
      "0.07781577110290527\n",
      "0.07751941680908203\n",
      "0.08117151260375977\n"
     ]
    },
    {
     "ename": "NameError",
     "evalue": "name 'livid' is not defined",
     "output_type": "error",
     "traceback": [
      "\u001b[0;31m---------------------------------------------------------------------------\u001b[0m",
      "\u001b[0;31mNameError\u001b[0m                                 Traceback (most recent call last)",
      "\u001b[0;32m<ipython-input-45-f6d2c955a33e>\u001b[0m in \u001b[0;36m<module>\u001b[0;34m()\u001b[0m\n\u001b[1;32m     28\u001b[0m \u001b[0mcv2\u001b[0m\u001b[0;34m.\u001b[0m\u001b[0mdestroyAllWindows\u001b[0m\u001b[0;34m(\u001b[0m\u001b[0;34m)\u001b[0m\u001b[0;34m\u001b[0m\u001b[0m\n\u001b[1;32m     29\u001b[0m \u001b[0mvid\u001b[0m\u001b[0;34m.\u001b[0m\u001b[0mrelease\u001b[0m\u001b[0;34m(\u001b[0m\u001b[0;34m)\u001b[0m\u001b[0;34m\u001b[0m\u001b[0m\n\u001b[0;32m---> 30\u001b[0;31m \u001b[0mlivid\u001b[0m\u001b[0;34m.\u001b[0m\u001b[0mrelease\u001b[0m\u001b[0;34m(\u001b[0m\u001b[0;34m)\u001b[0m\u001b[0;34m\u001b[0m\u001b[0m\n\u001b[0m",
      "\u001b[0;31mNameError\u001b[0m: name 'livid' is not defined"
     ]
    }
   ],
   "source": [
    "\n",
    "while True:\n",
    "    start_t = time.time()\n",
    "    ret1,img = cap_green.read()\n",
    "    ret2,bg = cap_vid.read()\n",
    "    \n",
    "    if (not(ret1 and ret2 and(iteration != end_iter))):\n",
    "        break\n",
    "        \n",
    "    img = cv2.resize(img, (img.shape[1] // scale, img.shape[0] // scale))\n",
    "    bg = cv2.resize(bg, (bg.shape[1] // scale, bg.shape[0] // scale))\n",
    "\n",
    "    \n",
    "    res = project_img(img,bg,corners[iteration],key_param)\n",
    "    \n",
    "#     vid.write(res)\n",
    "    \n",
    "    end_time = time.time()\n",
    "    print(end_time-start_t)\n",
    "    \n",
    "    cv2.imshow(\"result\",res)\n",
    "    ret = cv2.waitKey(20)\n",
    "    if ret==27:\n",
    "        break\n",
    "    \n",
    "    iteration += 1\n",
    "cv2.destroyAllWindows()\n",
    "vid.release()\n",
    "livid.release()"
   ]
  },
  {
   "cell_type": "code",
   "execution_count": null,
   "metadata": {
    "collapsed": false,
    "deletable": true,
    "editable": true
   },
   "outputs": [],
   "source": [
    "def test():\n",
    "    ret1,img = cap_green.read()\n",
    "    ret2,bg = cap_vid.read()\n",
    "    ret3,mask = cap_mask.read()\n",
    "    \n",
    "    if (not(ret1 and ret2 and ret3)):\n",
    "        break\n",
    "        \n",
    "#     img = cv2.resize(img,(img.shape[1]//2,img.shape[0]//2))\n",
    "#     bg = cv2.resize(bg,(bg.shape[1]//2,bg.shape[0]//2))\n",
    "#     mask = cv2.resize(mask,(mask.shape[1]//2,mask.shape[0]//2))\n",
    "#     img = np.transpose(img,[1,0,2])    \n",
    "    \n",
    "    res,m = project_img(img,bg,mask,key_param)\n",
    "    r = np.expand_dims(10*cv2.blur(m*(1-m),(5,5)),-1)\n",
    "    light = bg*r\n",
    "    diffl = res*(1-r)\n",
    "    newi = (light+diffl).astype(np.uint8)\n",
    "    \n",
    "    vid.write(res)\n",
    "    livid.write(newi)"
   ]
  },
  {
   "cell_type": "code",
   "execution_count": null,
   "metadata": {
    "collapsed": false,
    "deletable": true,
    "editable": true
   },
   "outputs": [],
   "source": [
    "%load_ext line_profiler"
   ]
  },
  {
   "cell_type": "code",
   "execution_count": null,
   "metadata": {
    "collapsed": false,
    "deletable": true,
    "editable": true
   },
   "outputs": [],
   "source": [
    "%lprun -f project_img test()"
   ]
  },
  {
   "cell_type": "code",
   "execution_count": null,
   "metadata": {
    "collapsed": true,
    "deletable": true,
    "editable": true
   },
   "outputs": [],
   "source": [
    "a = np.ones((2,3,1))"
   ]
  },
  {
   "cell_type": "code",
   "execution_count": null,
   "metadata": {
    "collapsed": false,
    "deletable": true,
    "editable": true
   },
   "outputs": [],
   "source": [
    "a"
   ]
  },
  {
   "cell_type": "code",
   "execution_count": null,
   "metadata": {
    "collapsed": false,
    "deletable": true,
    "editable": true
   },
   "outputs": [],
   "source": [
    "np.tile(a,3)"
   ]
  },
  {
   "cell_type": "code",
   "execution_count": null,
   "metadata": {
    "collapsed": true,
    "deletable": true,
    "editable": true
   },
   "outputs": [],
   "source": []
  },
  {
   "cell_type": "code",
   "execution_count": null,
   "metadata": {
    "collapsed": true
   },
   "outputs": [],
   "source": []
  },
  {
   "cell_type": "code",
   "execution_count": null,
   "metadata": {
    "collapsed": true
   },
   "outputs": [],
   "source": []
  },
  {
   "cell_type": "markdown",
   "metadata": {},
   "source": [
    "## Preprocessing mask"
   ]
  },
  {
   "cell_type": "code",
   "execution_count": null,
   "metadata": {
    "collapsed": true
   },
   "outputs": [],
   "source": [
    "import cv2\n",
    "import numpy as np"
   ]
  },
  {
   "cell_type": "code",
   "execution_count": null,
   "metadata": {
    "collapsed": true
   },
   "outputs": [],
   "source": [
    "import projection"
   ]
  },
  {
   "cell_type": "code",
   "execution_count": null,
   "metadata": {
    "collapsed": true
   },
   "outputs": [],
   "source": [
    "def get_corners(vid):\n",
    "    corners = []\n",
    "    i = 0\n",
    "    while True:\n",
    "        ret,mask = vid.read()\n",
    "        if( not ret):\n",
    "            break\n",
    "        i+=1\n",
    "        try:\n",
    "            corner = projection.get_corners_mask(mask)\n",
    "            corners.append(corner)\n",
    "        except Exception as e:\n",
    "            print(\"Exception occurred in frame %d: \"%(i-1),e)\n",
    "            break\n",
    "    np_corners = np.array(corners)\n",
    "    return np_corners"
   ]
  },
  {
   "cell_type": "code",
   "execution_count": null,
   "metadata": {
    "collapsed": true
   },
   "outputs": [],
   "source": [
    "def save_corners(corners,file_path):\n",
    "    # each line is of form: topl.x topl.y topr.x topr.y botr.x botr.y botl.x botl.y\n",
    "    with open(file_path,\"w\") as fl:\n",
    "        for cor in corners:\n",
    "            for pt in cor:\n",
    "                fl.write(\"%d %d \"%(pt[0],pt[1]))\n",
    "            fl.write(\"\\n\")\n",
    "        "
   ]
  },
  {
   "cell_type": "code",
   "execution_count": null,
   "metadata": {
    "collapsed": false
   },
   "outputs": [],
   "source": [
    "mask_vid = cv2.VideoCapture(\"./video/fight_mask.avi\")"
   ]
  },
  {
   "cell_type": "code",
   "execution_count": null,
   "metadata": {
    "collapsed": false,
    "deletable": true,
    "editable": true
   },
   "outputs": [],
   "source": [
    "mask_vid = cv2.VideoCapture(\"./video/fight.avi\")"
   ]
  },
  {
   "cell_type": "code",
   "execution_count": null,
   "metadata": {
    "collapsed": false
   },
   "outputs": [],
   "source": [
    "try:\n",
    "    projection.get_corners_mask(frames[400])\n",
    "except Exception as e:\n",
    "    print(\"Exception occurred in frame %d: \"%(3),e)"
   ]
  },
  {
   "cell_type": "code",
   "execution_count": null,
   "metadata": {
    "collapsed": false
   },
   "outputs": [],
   "source": [
    "\"%d %d\"%(corners[0][0][0],corners[0][0][1])"
   ]
  },
  {
   "cell_type": "code",
   "execution_count": null,
   "metadata": {
    "collapsed": true
   },
   "outputs": [],
   "source": [
    "save_corners(corners,\"./video/fight_green.txt\")"
   ]
  },
  {
   "cell_type": "code",
   "execution_count": null,
   "metadata": {
    "collapsed": false
   },
   "outputs": [],
   "source": [
    "corners[]"
   ]
  },
  {
   "cell_type": "code",
   "execution_count": null,
   "metadata": {
    "collapsed": true
   },
   "outputs": [],
   "source": []
  }
 ],
 "metadata": {
  "kernelspec": {
   "display_name": "Python 3",
   "language": "python",
   "name": "python3"
  },
  "language_info": {
   "codemirror_mode": {
    "name": "ipython",
    "version": 3
   },
   "file_extension": ".py",
   "mimetype": "text/x-python",
   "name": "python",
   "nbconvert_exporter": "python",
   "pygments_lexer": "ipython3",
   "version": "3.5.2"
  }
 },
 "nbformat": 4,
 "nbformat_minor": 2
}
