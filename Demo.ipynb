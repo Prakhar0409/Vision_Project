{
 "cells": [
  {
   "cell_type": "code",
   "execution_count": 24,
   "metadata": {
    "collapsed": true
   },
   "outputs": [],
   "source": [
    "import cv2\n",
    "import numpy as np\n",
    "import keying\n",
    "import projection\n",
    "import imp"
   ]
  },
  {
   "cell_type": "code",
   "execution_count": 48,
   "metadata": {
    "collapsed": true
   },
   "outputs": [],
   "source": [
    "def show_images(lst):\n",
    "    while True:\n",
    "        for i in lst:\n",
    "            cv2.imshow(i[0],i[1])\n",
    "        ret = cv2.waitKey(0)\n",
    "        if ret==27:\n",
    "            break\n",
    "    cv2.destroyAllWindows()"
   ]
  },
  {
   "cell_type": "code",
   "execution_count": 40,
   "metadata": {
    "collapsed": false,
    "deletable": true,
    "editable": true
   },
   "outputs": [],
   "source": [
    "def project_img(img,bg,mask,key_param):\n",
    "    key_mask = keying.get_mask(img,key_param)\n",
    "    bgra = keying.get_bgra(img,key_mask)\n",
    "    res = projection.project_to_mask(bgra,mask)\n",
    "    trans_img = res[:,:,:3]\n",
    "    trans_mask = np.expand_dims((res[:,:,3]).astype(np.float32)/255,-1)\n",
    "    result = (trans_mask * trans_img + (1 - trans_mask) * bg).astype(np.uint8)\n",
    "    return result"
   ]
  },
  {
   "cell_type": "code",
   "execution_count": 106,
   "metadata": {
    "collapsed": true
   },
   "outputs": [],
   "source": [
    "def get_key_param(img):\n",
    "    key_region = keying.get_region(img)\n",
    "    return keying.get_params_ycrcb(img,key_region)"
   ]
  },
  {
   "cell_type": "markdown",
   "metadata": {},
   "source": [
    "## IMG Test"
   ]
  },
  {
   "cell_type": "code",
   "execution_count": 124,
   "metadata": {
    "collapsed": true
   },
   "outputs": [],
   "source": [
    "img = cv2.imread(\"./image/twoperson.png\")\n",
    "bg = cv2.imread(\"./image/bg.jpg\")\n",
    "mask = cv2.imread(\"./image/mask.jpg\")\n",
    "\n",
    "key_param = get_key_param(img)\n",
    "res = project_img(img,bg,mask,key_param)\n",
    "\n",
    "show_images([(\"i\",img),(\"bg\",bg),(\"m\",mask),(\"res\",res)])"
   ]
  },
  {
   "cell_type": "markdown",
   "metadata": {},
   "source": [
    "## Video Test"
   ]
  },
  {
   "cell_type": "code",
   "execution_count": 165,
   "metadata": {
    "collapsed": true
   },
   "outputs": [],
   "source": [
    "green_vid_path = \"./video/fight_green.mp4\"\n",
    "env_vid_path = \"./video/fight.avi\"\n",
    "env_mask_path = \"./video/fight_mask.avi\"\n",
    "outp_vid = \"./video/fight_result.mov\""
   ]
  },
  {
   "cell_type": "code",
   "execution_count": 166,
   "metadata": {
    "collapsed": true
   },
   "outputs": [],
   "source": [
    "cap_green = cv2.VideoCapture(green_vid_path)\n",
    "cap_vid = cv2.VideoCapture(env_vid_path)\n",
    "cap_mask = cv2.VideoCapture(env_mask_path)"
   ]
  },
  {
   "cell_type": "code",
   "execution_count": 167,
   "metadata": {
    "collapsed": true
   },
   "outputs": [],
   "source": [
    "ret,img = cap_green.read()\n",
    "# img = np.transpose(img,[1,0,2])\n",
    "ret,bg = cap_vid.read()\n",
    "ret,mask = cap_mask.read()\n",
    "\n",
    "# img = cv2.resize(img,(img.shape[1]//2,img.shape[0]//2))\n",
    "# bg = cv2.resize(bg,(bg.shape[1]//2,bg.shape[0]//2))\n",
    "# mask = cv2.resize(mask,(mask.shape[1]//2,mask.shape[0]//2))"
   ]
  },
  {
   "cell_type": "code",
   "execution_count": 168,
   "metadata": {
    "collapsed": true
   },
   "outputs": [],
   "source": [
    "key_param = get_key_param(img)"
   ]
  },
  {
   "cell_type": "code",
   "execution_count": 142,
   "metadata": {
    "collapsed": true
   },
   "outputs": [],
   "source": [
    "fourcc = cv2.VideoWriter_fourcc(*'XVID')\n",
    "fps = cap_vid.get(5)\n",
    "vid = cv2.VideoWriter(outp_vid,fourcc, fps, (bg.shape[1],bg.shape[0]))"
   ]
  },
  {
   "cell_type": "code",
   "execution_count": null,
   "metadata": {
    "collapsed": true
   },
   "outputs": [],
   "source": [
    "import time"
   ]
  },
  {
   "cell_type": "code",
   "execution_count": 143,
   "metadata": {
    "collapsed": false
   },
   "outputs": [],
   "source": [
    "while True:\n",
    "    ret1,img = cap_green.read()\n",
    "    ret2,bg = cap_vid.read()\n",
    "    ret3,mask = cap_mask.read()\n",
    "    \n",
    "    if (not(ret1 and ret2 and ret3)):\n",
    "        break\n",
    "        \n",
    "#     img = cv2.resize(img,(img.shape[1]//2,img.shape[0]//2))\n",
    "#     bg = cv2.resize(bg,(bg.shape[1]//2,bg.shape[0]//2))\n",
    "#     mask = cv2.resize(mask,(mask.shape[1]//2,mask.shape[0]//2))\n",
    "#     img = np.transpose(img,[1,0,2])    \n",
    "    \n",
    "    res = project_img(img,bg,mask,key_param)\n",
    "    \n",
    "    vid.write(res)\n",
    "\n",
    "#     cv2.imshow(\"result\",res)\n",
    "#     ret = cv2.waitKey(20)\n",
    "#     if ret==27:\n",
    "#         break\n",
    "cv2.destroyAllWindows()\n",
    "vid.release()"
   ]
  },
  {
   "cell_type": "code",
   "execution_count": 169,
   "metadata": {
    "collapsed": false
   },
   "outputs": [],
   "source": [
    "def test():\n",
    "    while True:\n",
    "        ret1,img = cap_green.read()\n",
    "        ret2,bg = cap_vid.read()\n",
    "        ret3,mask = cap_mask.read()\n",
    "\n",
    "        if (not(ret1 and ret2 and ret3)):\n",
    "            break\n",
    "\n",
    "    #     img = cv2.resize(img,(img.shape[1]//2,img.shape[0]//2))\n",
    "    #     bg = cv2.resize(bg,(bg.shape[1]//2,bg.shape[0]//2))\n",
    "    #     mask = cv2.resize(mask,(mask.shape[1]//2,mask.shape[0]//2))\n",
    "    #     img = np.transpose(img,[1,0,2])    \n",
    "\n",
    "        res = project_img(img,bg,mask,key_param)\n",
    "\n",
    "    #     cv2.imshow(\"result\",res)\n",
    "    #     ret = cv2.waitKey(20)\n",
    "    #     if ret==27:\n",
    "    #         break"
   ]
  },
  {
   "cell_type": "code",
   "execution_count": null,
   "metadata": {
    "collapsed": true
   },
   "outputs": [],
   "source": []
  }
 ],
 "metadata": {
  "kernelspec": {
   "display_name": "Python 3",
   "language": "python",
   "name": "python3"
  },
  "language_info": {
   "codemirror_mode": {
    "name": "ipython",
    "version": 3
   },
   "file_extension": ".py",
   "mimetype": "text/x-python",
   "name": "python",
   "nbconvert_exporter": "python",
   "pygments_lexer": "ipython3",
   "version": "3.5.2"
  }
 },
 "nbformat": 4,
 "nbformat_minor": 2
}
