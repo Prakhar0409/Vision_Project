{
 "cells": [
  {
   "cell_type": "code",
   "execution_count": 1,
   "metadata": {
    "collapsed": true
   },
   "outputs": [],
   "source": [
    "import cv2\n",
    "import numpy as np\n",
    "import keying\n",
    "import projection\n",
    "import imp"
   ]
  },
  {
   "cell_type": "code",
   "execution_count": 2,
   "metadata": {
    "collapsed": false
   },
   "outputs": [
    {
     "data": {
      "text/plain": [
       "<module 'keying' from '/home/ozym4nd145/Coding/Project/Vision_Project/keying.py'>"
      ]
     },
     "execution_count": 2,
     "metadata": {},
     "output_type": "execute_result"
    }
   ],
   "source": [
    "imp.reload(keying)"
   ]
  },
  {
   "cell_type": "code",
   "execution_count": 3,
   "metadata": {
    "collapsed": true
   },
   "outputs": [],
   "source": [
    "def show_images(lst):\n",
    "    while True:\n",
    "        for i in lst:\n",
    "            cv2.imshow(i[0],i[1])\n",
    "        ret = cv2.waitKey(0)\n",
    "        if ret==27:\n",
    "            break\n",
    "    cv2.destroyAllWindows()"
   ]
  },
  {
   "cell_type": "code",
   "execution_count": 4,
   "metadata": {
    "collapsed": false,
    "deletable": true,
    "editable": true
   },
   "outputs": [],
   "source": [
    "def project_img(img,bg,mask,key_param,tola=16, tolb=50, low_thresh=0.05,\n",
    "                high_thresh=0.25, sz=5, space=200,sat_mul_lo=5,sat_mul_hi=7):\n",
    "    key_mask = keying.get_mask(img,key_param[0],tola, tolb, low_thresh, high_thresh, sz, space)\n",
    "    mod_img =  keying.process_img(img,key_param[1],sat_mul_lo,sat_mul_hi)\n",
    "    bgra = keying.get_bgra(mod_img,key_mask)\n",
    "    res = projection.project_to_mask(bgra,mask)\n",
    "    trans_img = res[:,:,:3] ##(x,y,3)\n",
    "    trans_mask = np.expand_dims((res[:,:,3]).astype(np.float32)/255,-1) ##(x,y)\n",
    "    \n",
    "#     r1 = np.multiply(trans_img,trans_mask)\n",
    "    t_mask = np.tile(trans_mask,3)\n",
    "    \n",
    "    trans_img = trans_img.astype(np.float32)\n",
    "    bg = bg.astype(np.float32)\n",
    "    \n",
    "    r1 = cv2.multiply(trans_img,t_mask)\n",
    "    r2 = cv2.multiply(bg,1-t_mask)\n",
    "\n",
    "    result = cv2.add(r1,r2)\n",
    "    result = result.astype(np.uint8)\n",
    "    return (result,trans_mask)"
   ]
  },
  {
   "cell_type": "code",
   "execution_count": 5,
   "metadata": {
    "collapsed": true
   },
   "outputs": [],
   "source": [
    "def get_key_param(img):\n",
    "    key_region = keying.get_region(img)\n",
    "    ycrcb = keying.get_params_ycrcb(img,key_region)\n",
    "    hls = keying.get_params_hls(img,key_region)\n",
    "    return (ycrcb,hls)"
   ]
  },
  {
   "cell_type": "markdown",
   "metadata": {},
   "source": [
    "## IMG Test"
   ]
  },
  {
   "cell_type": "code",
   "execution_count": 6,
   "metadata": {
    "collapsed": false
   },
   "outputs": [],
   "source": [
    "img = cv2.imread(\"./image/twoperson.png\")\n",
    "bg = cv2.imread(\"./image/bg.jpg\")\n",
    "mask = cv2.imread(\"./image/mask.jpg\")\n",
    "\n",
    "key_param = get_key_param(img)\n",
    "res,m = project_img(img,bg,mask,key_param)\n",
    "\n",
    "show_images([(\"i\",img),(\"bg\",bg),(\"m\",mask),(\"res\",res)])"
   ]
  },
  {
   "cell_type": "markdown",
   "metadata": {},
   "source": [
    "## Video Test"
   ]
  },
  {
   "cell_type": "code",
   "execution_count": 7,
   "metadata": {
    "collapsed": true
   },
   "outputs": [],
   "source": [
    "green_vid_path = \"./video/fight_green.mp4\"\n",
    "# green_vid_path = \"./video/suyash_oneplus.mp4\"\n",
    "env_vid_path = \"./video/fight.avi\"\n",
    "env_mask_path = \"./video/fight_mask.avi\"\n",
    "outp_vid = \"./video/fight_result.mov\"\n",
    "outp_vid_l = \"./video/fight_result_light.mov\""
   ]
  },
  {
   "cell_type": "code",
   "execution_count": 8,
   "metadata": {
    "collapsed": true
   },
   "outputs": [],
   "source": [
    "cap_green = cv2.VideoCapture(green_vid_path)\n",
    "cap_vid = cv2.VideoCapture(env_vid_path)\n",
    "cap_mask = cv2.VideoCapture(env_mask_path)"
   ]
  },
  {
   "cell_type": "code",
   "execution_count": 9,
   "metadata": {
    "collapsed": true
   },
   "outputs": [],
   "source": [
    "ret,img = cap_green.read()\n",
    "# img = np.transpose(img,[1,0,2])\n",
    "ret,bg = cap_vid.read()\n",
    "ret,mask = cap_mask.read()\n",
    "\n",
    "# img = cv2.resize(img,(img.shape[1]//2,img.shape[0]//2))\n",
    "# bg = cv2.resize(bg,(bg.shape[1]//2,bg.shape[0]//2))\n",
    "# mask = cv2.resize(mask,(mask.shape[1]//2,mask.shape[0]//2))"
   ]
  },
  {
   "cell_type": "code",
   "execution_count": 10,
   "metadata": {
    "collapsed": true
   },
   "outputs": [],
   "source": [
    "key_param = get_key_param(img)"
   ]
  },
  {
   "cell_type": "code",
   "execution_count": 11,
   "metadata": {
    "collapsed": true,
    "deletable": true,
    "editable": true
   },
   "outputs": [],
   "source": [
    "fourcc = cv2.VideoWriter_fourcc(*'XVID')\n",
    "fps = cap_vid.get(5)\n",
    "vid = cv2.VideoWriter(outp_vid,fourcc, fps, (bg.shape[1],bg.shape[0]))\n",
    "livid = cv2.VideoWriter(outp_vid_l,fourcc, fps, (bg.shape[1],bg.shape[0]))"
   ]
  },
  {
   "cell_type": "code",
   "execution_count": 12,
   "metadata": {
    "collapsed": true
   },
   "outputs": [],
   "source": [
    "while True:\n",
    "    ret1,img = cap_green.read()\n",
    "    ret2,bg = cap_vid.read()\n",
    "    ret3,mask = cap_mask.read()\n",
    "    \n",
    "    if (not(ret1 and ret2 and ret3)):\n",
    "        break\n",
    "        \n",
    "#     img = cv2.resize(img,(img.shape[1]//2,img.shape[0]//2))\n",
    "#     bg = cv2.resize(bg,(bg.shape[1]//2,bg.shape[0]//2))\n",
    "#     mask = cv2.resize(mask,(mask.shape[1]//2,mask.shape[0]//2))\n",
    "#     img = np.transpose(img,[1,0,2])    \n",
    "    \n",
    "    res,m = project_img(img,bg,mask,key_param)\n",
    "    r = np.expand_dims(10*cv2.blur(m*(1-m),(5,5)),-1)\n",
    "    light = bg*r\n",
    "    diffl = res*(1-r)\n",
    "    newi = (light+diffl).astype(np.uint8)\n",
    "    \n",
    "    vid.write(res)\n",
    "    livid.write(newi)\n",
    "    \n",
    "\n",
    "    cv2.imshow(\"result\",res)\n",
    "#     cv2.imshow(\"mask\",m)\n",
    "    cv2.imshow(\"diff\",r)\n",
    "#     cv2.imshow(\"light\",light.astype(np.uint8))\n",
    "#     cv2.imshow(\"diffl\",diffl.astype(np.uint8))\n",
    "    cv2.imshow(\"newl\",newi)\n",
    "    ret = cv2.waitKey(20)\n",
    "    if ret==27:\n",
    "        break\n",
    "cv2.destroyAllWindows()\n",
    "vid.release()\n",
    "livid.release()"
   ]
  },
  {
   "cell_type": "code",
   "execution_count": null,
   "metadata": {
    "collapsed": false
   },
   "outputs": [],
   "source": [
    "# def test():\n",
    "    ret1,img = cap_green.read()\n",
    "    ret2,bg = cap_vid.read()\n",
    "    ret3,mask = cap_mask.read()\n",
    "\n",
    "#     img = cv2.resize(img,(img.shape[1]//2,img.shape[0]//2))\n",
    "#     bg = cv2.resize(bg,(bg.shape[1]//2,bg.shape[0]//2))\n",
    "#     mask = cv2.resize(mask,(mask.shape[1]//2,mask.shape[0]//2))\n",
    "#     img = np.transpose(img,[1,0,2])    \n",
    "\n",
    "    res = project_img(img,bg,mask,key_param)\n",
    "\n",
    "#     cv2.imshow(\"result\",res)\n",
    "#     ret = cv2.waitKey(20)\n",
    "#     if ret==27:\n",
    "#         break"
   ]
  },
  {
   "cell_type": "code",
   "execution_count": null,
   "metadata": {
    "collapsed": false
   },
   "outputs": [],
   "source": [
    "%load_ext line_profiler"
   ]
  },
  {
   "cell_type": "code",
   "execution_count": null,
   "metadata": {
    "collapsed": false
   },
   "outputs": [],
   "source": [
    "%lprun -f project_img test()"
   ]
  },
  {
   "cell_type": "code",
   "execution_count": null,
   "metadata": {
    "collapsed": true
   },
   "outputs": [],
   "source": [
    "a = np.ones((2,3,1))"
   ]
  },
  {
   "cell_type": "code",
   "execution_count": null,
   "metadata": {
    "collapsed": false
   },
   "outputs": [],
   "source": [
    "a"
   ]
  },
  {
   "cell_type": "code",
   "execution_count": null,
   "metadata": {
    "collapsed": false
   },
   "outputs": [],
   "source": [
    "np.tile(a,3)"
   ]
  },
  {
   "cell_type": "code",
   "execution_count": null,
   "metadata": {
    "collapsed": true
   },
   "outputs": [],
   "source": []
  }
 ],
 "metadata": {
  "kernelspec": {
   "display_name": "Python 3",
   "language": "python",
   "name": "python3"
  },
  "language_info": {
   "codemirror_mode": {
    "name": "ipython",
    "version": 3
   },
   "file_extension": ".py",
   "mimetype": "text/x-python",
   "name": "python",
   "nbconvert_exporter": "python",
   "pygments_lexer": "ipython3",
   "version": "3.5.2"
  }
 },
 "nbformat": 4,
 "nbformat_minor": 2
}
