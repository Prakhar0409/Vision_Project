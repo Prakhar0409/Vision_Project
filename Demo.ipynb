{
 "cells": [
  {
   "cell_type": "code",
   "execution_count": 1,
   "metadata": {
    "collapsed": true
   },
   "outputs": [],
   "source": [
    "import cv2\n",
    "import numpy as np\n",
    "import keying\n",
    "import projection\n",
    "import imp\n",
    "import time"
   ]
  },
  {
   "cell_type": "code",
   "execution_count": 2,
   "metadata": {
    "collapsed": false
   },
   "outputs": [
    {
     "data": {
      "text/plain": [
       "<module 'keying' from '/home/ozym4nd145/Coding/Project/Vision_Project/keying.py'>"
      ]
     },
     "execution_count": 2,
     "metadata": {},
     "output_type": "execute_result"
    }
   ],
   "source": [
    "imp.reload(keying)"
   ]
  },
  {
   "cell_type": "code",
   "execution_count": 3,
   "metadata": {
    "collapsed": true
   },
   "outputs": [],
   "source": [
    "def show_images(lst):\n",
    "    while True:\n",
    "        for i in lst:\n",
    "            cv2.imshow(i[0],i[1])\n",
    "        ret = cv2.waitKey(0)\n",
    "        if ret==27:\n",
    "            break\n",
    "    cv2.destroyAllWindows()"
   ]
  },
  {
   "cell_type": "code",
   "execution_count": 4,
   "metadata": {
    "collapsed": false,
    "deletable": true,
    "editable": true
   },
   "outputs": [],
   "source": [
    "def project_img(img,bg,mask,key_param,tola=16, tolb=50, low_thresh=0.05,\n",
    "                high_thresh=0.25, sz=5, space=200,sat_mul_lo=5,sat_mul_hi=7):\n",
    "    key_mask = keying.get_mask(img,key_param[0],tola, tolb, low_thresh, high_thresh, sz, space)\n",
    "#     mod_img =  keying.process_img(img,key_param[1],sat_mul_lo,sat_mul_hi)\n",
    "    mod_img = img\n",
    "    bgra = keying.get_bgra(mod_img,key_mask)\n",
    "    res = projection.project_to_mask(bgra,mask)\n",
    "    trans_img = res[:,:,:3] ##(x,y,3)\n",
    "    trans_mask = np.expand_dims((res[:,:,3]).astype(np.float32)/255,-1) ##(x,y)\n",
    "    \n",
    "#     r1 = np.multiply(trans_img,trans_mask)\n",
    "    t_mask = np.tile(trans_mask,3)\n",
    "    \n",
    "    trans_img = trans_img.astype(np.float32)\n",
    "    bg = bg.astype(np.float32)\n",
    "    \n",
    "    r1 = cv2.multiply(trans_img,t_mask)\n",
    "    r2 = cv2.multiply(bg,1-t_mask)\n",
    "\n",
    "    result = cv2.add(r1,r2)\n",
    "    result = result.astype(np.uint8)\n",
    "    return (result,trans_mask)"
   ]
  },
  {
   "cell_type": "code",
   "execution_count": 5,
   "metadata": {
    "collapsed": true
   },
   "outputs": [],
   "source": [
    "def get_key_param(img):\n",
    "    key_region = keying.get_region(img)\n",
    "    ycrcb = keying.get_params_ycrcb(img,key_region)\n",
    "    hls = keying.get_params_hls(img,key_region)\n",
    "    return (ycrcb,hls)"
   ]
  },
  {
   "cell_type": "markdown",
   "metadata": {},
   "source": [
    "## IMG Test"
   ]
  },
  {
   "cell_type": "code",
   "execution_count": 6,
   "metadata": {
    "collapsed": false
   },
   "outputs": [],
   "source": [
    "img = cv2.imread(\"./image/twoperson.png\")\n",
    "bg = cv2.imread(\"./image/bg.jpg\")\n",
    "mask = cv2.imread(\"./image/mask.jpg\")\n",
    "\n",
    "key_param = get_key_param(img)\n",
    "res,m = project_img(img,bg,mask,key_param)\n",
    "\n",
    "show_images([(\"i\",img),(\"bg\",bg),(\"m\",mask),(\"res\",res)])"
   ]
  },
  {
   "cell_type": "markdown",
   "metadata": {},
   "source": [
    "## Video Test"
   ]
  },
  {
   "cell_type": "code",
   "execution_count": 14,
   "metadata": {
    "collapsed": true
   },
   "outputs": [],
   "source": [
    "green_vid_path = \"./video/fight_green.mp4\"\n",
    "# green_vid_path = \"./video/suyash_oneplus.mp4\"\n",
    "env_vid_path = \"./video/fight.avi\"\n",
    "env_mask_path = \"./video/fight_mask.avi\"\n",
    "outp_vid = \"./video/fight_result.mov\"\n",
    "outp_vid_l = \"./video/fight_result_light.mov\""
   ]
  },
  {
   "cell_type": "code",
   "execution_count": 15,
   "metadata": {
    "collapsed": true
   },
   "outputs": [],
   "source": [
    "cap_green = cv2.VideoCapture(green_vid_path)\n",
    "cap_vid = cv2.VideoCapture(env_vid_path)\n",
    "cap_mask = cv2.VideoCapture(env_mask_path)"
   ]
  },
  {
   "cell_type": "code",
   "execution_count": 16,
   "metadata": {
    "collapsed": true
   },
   "outputs": [],
   "source": [
    "ret,img = cap_green.read()\n",
    "# img = np.transpose(img,[1,0,2])\n",
    "ret,bg = cap_vid.read()\n",
    "ret,mask = cap_mask.read()\n",
    "\n",
    "# img = cv2.resize(img,(img.shape[1]//2,img.shape[0]//2))\n",
    "# bg = cv2.resize(bg,(bg.shape[1]//2,bg.shape[0]//2))\n",
    "# mask = cv2.resize(mask,(mask.shape[1]//2,mask.shape[0]//2))"
   ]
  },
  {
   "cell_type": "code",
   "execution_count": 10,
   "metadata": {
    "collapsed": false
   },
   "outputs": [],
   "source": [
    "key_param = get_key_param(img)"
   ]
  },
  {
   "cell_type": "code",
   "execution_count": 17,
   "metadata": {
    "collapsed": true,
    "deletable": true,
    "editable": true
   },
   "outputs": [],
   "source": [
    "fourcc = cv2.VideoWriter_fourcc(*'XVID')\n",
    "fps = cap_vid.get(5)\n",
    "vid = cv2.VideoWriter(outp_vid,fourcc, fps, (bg.shape[1],bg.shape[0]))\n",
    "# livid = cv2.VideoWriter(outp_vid_l,fourcc, fps, (bg.shape[1],bg.shape[0]))"
   ]
  },
  {
   "cell_type": "code",
   "execution_count": 18,
   "metadata": {
    "collapsed": false
   },
   "outputs": [
    {
     "name": "stdout",
     "output_type": "stream",
     "text": [
      "0.23008060455322266\n",
      "0.19672036170959473\n",
      "0.1950681209564209\n",
      "0.18555331230163574\n",
      "0.24228906631469727\n",
      "0.19295382499694824\n",
      "0.20323967933654785\n",
      "0.24498677253723145\n",
      "0.18965411186218262\n",
      "0.18894219398498535\n",
      "0.2566807270050049\n",
      "0.19444966316223145\n",
      "0.2555694580078125\n",
      "0.2124347686767578\n",
      "0.19300460815429688\n",
      "0.18101763725280762\n",
      "0.25270533561706543\n",
      "0.21937203407287598\n",
      "0.20306825637817383\n",
      "0.19678306579589844\n",
      "0.18491744995117188\n",
      "0.20277118682861328\n",
      "0.18672871589660645\n",
      "0.23718619346618652\n",
      "0.1944742202758789\n",
      "0.1875288486480713\n",
      "0.18709158897399902\n",
      "0.1912226676940918\n",
      "0.18650555610656738\n",
      "0.18052411079406738\n",
      "0.2575051784515381\n",
      "0.18829131126403809\n",
      "0.1867048740386963\n",
      "0.19736146926879883\n",
      "0.2077796459197998\n",
      "0.19980621337890625\n",
      "0.18440628051757812\n",
      "0.18396306037902832\n",
      "0.2600977420806885\n",
      "0.2783658504486084\n",
      "0.2277686595916748\n",
      "0.19220852851867676\n",
      "0.2491614818572998\n",
      "0.21601343154907227\n",
      "0.1911153793334961\n",
      "0.18938636779785156\n",
      "0.1904456615447998\n",
      "0.21512246131896973\n",
      "0.19035696983337402\n",
      "0.18272185325622559\n",
      "0.1977996826171875\n",
      "0.20223474502563477\n",
      "0.19418644905090332\n",
      "0.18436527252197266\n",
      "0.1857774257659912\n",
      "0.17714548110961914\n",
      "0.19130373001098633\n",
      "0.21304655075073242\n",
      "0.18728375434875488\n",
      "0.1810321807861328\n",
      "0.1840379238128662\n",
      "0.1835036277770996\n",
      "0.1834719181060791\n",
      "0.19863653182983398\n",
      "0.20711660385131836\n"
     ]
    },
    {
     "ename": "KeyboardInterrupt",
     "evalue": "",
     "output_type": "error",
     "traceback": [
      "\u001b[0;31m---------------------------------------------------------------------------\u001b[0m",
      "\u001b[0;31mKeyboardInterrupt\u001b[0m                         Traceback (most recent call last)",
      "\u001b[0;32m<ipython-input-18-76d0ffcdbf74>\u001b[0m in \u001b[0;36m<module>\u001b[0;34m()\u001b[0m\n\u001b[1;32m      2\u001b[0m     \u001b[0mstart_t\u001b[0m \u001b[0;34m=\u001b[0m \u001b[0mtime\u001b[0m\u001b[0;34m.\u001b[0m\u001b[0mtime\u001b[0m\u001b[0;34m(\u001b[0m\u001b[0;34m)\u001b[0m\u001b[0;34m\u001b[0m\u001b[0m\n\u001b[1;32m      3\u001b[0m     \u001b[0mret1\u001b[0m\u001b[0;34m,\u001b[0m\u001b[0mimg\u001b[0m \u001b[0;34m=\u001b[0m \u001b[0mcap_green\u001b[0m\u001b[0;34m.\u001b[0m\u001b[0mread\u001b[0m\u001b[0;34m(\u001b[0m\u001b[0;34m)\u001b[0m\u001b[0;34m\u001b[0m\u001b[0m\n\u001b[0;32m----> 4\u001b[0;31m     \u001b[0mret2\u001b[0m\u001b[0;34m,\u001b[0m\u001b[0mbg\u001b[0m \u001b[0;34m=\u001b[0m \u001b[0mcap_vid\u001b[0m\u001b[0;34m.\u001b[0m\u001b[0mread\u001b[0m\u001b[0;34m(\u001b[0m\u001b[0;34m)\u001b[0m\u001b[0;34m\u001b[0m\u001b[0m\n\u001b[0m\u001b[1;32m      5\u001b[0m     \u001b[0mret3\u001b[0m\u001b[0;34m,\u001b[0m\u001b[0mmask\u001b[0m \u001b[0;34m=\u001b[0m \u001b[0mcap_mask\u001b[0m\u001b[0;34m.\u001b[0m\u001b[0mread\u001b[0m\u001b[0;34m(\u001b[0m\u001b[0;34m)\u001b[0m\u001b[0;34m\u001b[0m\u001b[0m\n\u001b[1;32m      6\u001b[0m \u001b[0;34m\u001b[0m\u001b[0m\n",
      "\u001b[0;31mKeyboardInterrupt\u001b[0m: "
     ]
    }
   ],
   "source": [
    "while True:\n",
    "    start_t = time.time()\n",
    "    ret1,img = cap_green.read()\n",
    "    ret2,bg = cap_vid.read()\n",
    "    ret3,mask = cap_mask.read()\n",
    "    \n",
    "    if (not(ret1 and ret2 and ret3)):\n",
    "        break\n",
    "        \n",
    "#     img = cv2.resize(img,(img.shape[1]//2,img.shape[0]//2))\n",
    "#     bg = cv2.resize(bg,(bg.shape[1]//2,bg.shape[0]//2))\n",
    "#     mask = cv2.resize(mask,(mask.shape[1]//2,mask.shape[0]//2))\n",
    "#     img = np.transpose(img,[1,0,2])    \n",
    "    \n",
    "    res,m = project_img(img,bg,mask,key_param)\n",
    "#     r = np.expand_dims(10*cv2.blur(m*(1-m),(5,5)),-1)\n",
    "#     light = bg*r\n",
    "#     diffl = res*(1-r)\n",
    "#     newi = (light+diffl).astype(np.uint8)\n",
    "    \n",
    "    vid.write(res)\n",
    "#     livid.write(newi)\n",
    "    \n",
    "    end_time = time.time()\n",
    "    print(end_time-start_t)\n",
    "    \n",
    "#     cv2.imshow(\"result\",res)\n",
    "# #     cv2.imshow(\"mask\",m)\n",
    "#     cv2.imshow(\"diff\",r)\n",
    "# #     cv2.imshow(\"light\",light.astype(np.uint8))\n",
    "# #     cv2.imshow(\"diffl\",diffl.astype(np.uint8))\n",
    "#     cv2.imshow(\"newl\",newi)\n",
    "#     ret = cv2.waitKey(20)\n",
    "#     if ret==27:\n",
    "#         break\n",
    "cv2.destroyAllWindows()\n",
    "vid.release()\n",
    "livid.release()"
   ]
  },
  {
   "cell_type": "code",
   "execution_count": null,
   "metadata": {
    "collapsed": false
   },
   "outputs": [],
   "source": [
    "def test():\n",
    "    ret1,img = cap_green.read()\n",
    "    ret2,bg = cap_vid.read()\n",
    "    ret3,mask = cap_mask.read()\n",
    "    \n",
    "    if (not(ret1 and ret2 and ret3)):\n",
    "        break\n",
    "        \n",
    "#     img = cv2.resize(img,(img.shape[1]//2,img.shape[0]//2))\n",
    "#     bg = cv2.resize(bg,(bg.shape[1]//2,bg.shape[0]//2))\n",
    "#     mask = cv2.resize(mask,(mask.shape[1]//2,mask.shape[0]//2))\n",
    "#     img = np.transpose(img,[1,0,2])    \n",
    "    \n",
    "    res,m = project_img(img,bg,mask,key_param)\n",
    "    r = np.expand_dims(10*cv2.blur(m*(1-m),(5,5)),-1)\n",
    "    light = bg*r\n",
    "    diffl = res*(1-r)\n",
    "    newi = (light+diffl).astype(np.uint8)\n",
    "    \n",
    "    vid.write(res)\n",
    "    livid.write(newi)"
   ]
  },
  {
   "cell_type": "code",
   "execution_count": null,
   "metadata": {
    "collapsed": false
   },
   "outputs": [],
   "source": [
    "%load_ext line_profiler"
   ]
  },
  {
   "cell_type": "code",
   "execution_count": null,
   "metadata": {
    "collapsed": false
   },
   "outputs": [],
   "source": [
    "%lprun -f project_img test()"
   ]
  },
  {
   "cell_type": "code",
   "execution_count": null,
   "metadata": {
    "collapsed": true
   },
   "outputs": [],
   "source": [
    "a = np.ones((2,3,1))"
   ]
  },
  {
   "cell_type": "code",
   "execution_count": null,
   "metadata": {
    "collapsed": false
   },
   "outputs": [],
   "source": [
    "a"
   ]
  },
  {
   "cell_type": "code",
   "execution_count": null,
   "metadata": {
    "collapsed": false
   },
   "outputs": [],
   "source": [
    "np.tile(a,3)"
   ]
  },
  {
   "cell_type": "code",
   "execution_count": null,
   "metadata": {
    "collapsed": true
   },
   "outputs": [],
   "source": []
  }
 ],
 "metadata": {
  "kernelspec": {
   "display_name": "Python 3",
   "language": "python",
   "name": "python3"
  },
  "language_info": {
   "codemirror_mode": {
    "name": "ipython",
    "version": 3
   },
   "file_extension": ".py",
   "mimetype": "text/x-python",
   "name": "python",
   "nbconvert_exporter": "python",
   "pygments_lexer": "ipython3",
   "version": "3.5.2"
  }
 },
 "nbformat": 4,
 "nbformat_minor": 2
}
