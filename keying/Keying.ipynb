{
 "cells": [
  {
   "cell_type": "code",
   "execution_count": 1,
   "metadata": {
    "collapsed": true,
    "deletable": true,
    "editable": true
   },
   "outputs": [],
   "source": [
    "import cv2\n",
    "import numpy as np"
   ]
  },
  {
   "cell_type": "code",
   "execution_count": 2,
   "metadata": {
    "collapsed": true,
    "deletable": true,
    "editable": true
   },
   "outputs": [],
   "source": [
    "from matplotlib import pyplot as plt"
   ]
  },
  {
   "cell_type": "code",
   "execution_count": 3,
   "metadata": {
    "collapsed": true,
    "deletable": true,
    "editable": true
   },
   "outputs": [],
   "source": [
    "def show_images(lst):\n",
    "    while True:\n",
    "        for i in lst:\n",
    "            cv2.imshow(i[0],i[1])\n",
    "        ret = cv2.waitKey(0)\n",
    "        if ret==27:\n",
    "            break\n",
    "    cv2.destroyAllWindows()"
   ]
  },
  {
   "cell_type": "markdown",
   "metadata": {
    "deletable": true,
    "editable": true
   },
   "source": [
    "## Testing basic H threshold"
   ]
  },
  {
   "cell_type": "code",
   "execution_count": 399,
   "metadata": {
    "collapsed": true
   },
   "outputs": [],
   "source": [
    "video_path = \"./ignore/lab_green_screen/suyash_oneplus.mp4\"\n",
    "# video_path = \"./ignore/lab_green_screen/ankesh_oneplus.mp4\""
   ]
  },
  {
   "cell_type": "code",
   "execution_count": 401,
   "metadata": {
    "collapsed": false
   },
   "outputs": [],
   "source": [
    "# img = cv2.imread(\"./image/img01.png\")\n",
    "# cap = cv2.VideoCapture(\"./video/test.mp4\")\n",
    "cap = cv2.VideoCapture(video_path)\n",
    "# cap = cv2.VideoCapture(\"./ignore/lab_green_screen/ankesh_oneplus.mp4\")\n",
    "ret,IMG = cap.read()\n",
    "IMG = cv2.resize(IMG,(IMG.shape[1]//2,IMG.shape[0]//2))"
   ]
  },
  {
   "cell_type": "code",
   "execution_count": 417,
   "metadata": {
    "collapsed": true
   },
   "outputs": [],
   "source": [
    "IMG = cv2.imread(\"./image/test.jpg\")"
   ]
  },
  {
   "cell_type": "code",
   "execution_count": 418,
   "metadata": {
    "collapsed": true,
    "deletable": true,
    "editable": true
   },
   "outputs": [],
   "source": [
    "def segment(orig,params,al,bet,gm,mult):\n",
    "    h_mean,h_std,l_mean,l_std,s_mean,s_std = params\n",
    "    hls_im = cv2.cvtColor(orig,cv2.COLOR_BGR2HLS)\n",
    "    a = (hls_im[:,:,0]>(h_mean-mult*h_std))\n",
    "    b = (hls_im[:,:,0]<(h_mean+mult*h_std))\n",
    "    h_mask = a*b\n",
    "    a = (hls_im[:,:,1]>(l_mean-mult*l_std))\n",
    "    b = (hls_im[:,:,1]<(l_mean+mult*l_std))\n",
    "    l_mask = a*b\n",
    "    a = (hls_im[:,:,2]>(s_mean-mult*s_std))\n",
    "    b = (hls_im[:,:,2]<(s_mean+mult*s_std))\n",
    "    s_mask = a*b\n",
    "    hls_mask = (al*h_mask + bet*l_mask + gm*s_mask)\n",
    "#     return hls_mask\n",
    "    hls_mask = hls_mask.clip(0.0,1.0)\n",
    "    hls_mask = 1 - hls_mask\n",
    "    return hls_mask"
   ]
  },
  {
   "cell_type": "code",
   "execution_count": 419,
   "metadata": {
    "collapsed": true
   },
   "outputs": [],
   "source": [
    "def get_params(img):\n",
    "    hls_img = cv2.cvtColor(img,cv2.COLOR_BGR2HLS).astype(np.float32)\n",
    "    r = cv2.selectROI(\"Select window of background\",img=img,fromCenter=False,showCrossair=False)\n",
    "    cv2.destroyAllWindows()\n",
    "    r = [int(x) for x in r]\n",
    "    h_mean,l_mean,s_mean = np.mean(region,axis=(0,1))\n",
    "    h_std,l_std,s_std = np.std(region,axis=(0,1))\n",
    "    return [h_mean,h_std,l_mean,l_std,s_mean,s_std]"
   ]
  },
  {
   "cell_type": "code",
   "execution_count": 420,
   "metadata": {
    "collapsed": false,
    "deletable": true,
    "editable": true
   },
   "outputs": [],
   "source": [
    "params = get_params(IMG)"
   ]
  },
  {
   "cell_type": "code",
   "execution_count": 421,
   "metadata": {
    "collapsed": false,
    "deletable": true,
    "editable": true
   },
   "outputs": [],
   "source": [
    "WHITE = np.ones(IMG.shape,dtype=np.int8)*255"
   ]
  },
  {
   "cell_type": "code",
   "execution_count": 416,
   "metadata": {
    "collapsed": false,
    "deletable": true,
    "editable": true
   },
   "outputs": [],
   "source": [
    "cap = cv2.VideoCapture(video_path)\n",
    "while(True):\n",
    "    ret,img = cap.read()\n",
    "    if not ret:\n",
    "        break\n",
    "    img = cv2.resize(img,(img.shape[1]//2,img.shape[0]//2))\n",
    "    bright_img = brighten(img,1,0,0.3)\n",
    "    mask = np.expand_dims(segment(bright_img,params_new,0.7,0.1,0.7,8),-1)\n",
    "    mask = mod_mask(mask,0,0.2)\n",
    "    new_img = (mask*img+(1-mask)*WHITE).astype(np.uint8)\n",
    "#     show_images([(\"img\",ans),(\"masked\",new_img)])\n",
    "    cv2.imshow(\"img\",img)\n",
    "    cv2.imshow(\"masked\",new_img)\n",
    "    ret = cv2.waitKey(1)\n",
    "    if ret==27:\n",
    "        break\n",
    "cv2.destroyAllWindows()"
   ]
  },
  {
   "cell_type": "markdown",
   "metadata": {},
   "source": [
    "##### alpha,beta,gamma correction"
   ]
  },
  {
   "cell_type": "code",
   "execution_count": 146,
   "metadata": {
    "collapsed": true
   },
   "outputs": [],
   "source": [
    "def brighten(img,alpha,beta,gamma):\n",
    "    cor_img = img.astype(np.float32)\n",
    "#     alpha = 1.3\n",
    "#     beta = 40\n",
    "#     gamma = 0.4\n",
    "    bright_img = alpha*cor_img + beta\n",
    "    gam_cor = np.power(bright_img/255,gamma)*255\n",
    "    bright_img = gam_cor.clip(0,255).astype(np.uint8)\n",
    "    return bright_img"
   ]
  },
  {
   "cell_type": "code",
   "execution_count": 184,
   "metadata": {
    "collapsed": true
   },
   "outputs": [],
   "source": [
    "def mod_mask(mask,low,high):\n",
    "    mask = mask.copy()\n",
    "    mask[mask>high]=1.0\n",
    "    mask[mask<low] = 0.0\n",
    "    return mask"
   ]
  },
  {
   "cell_type": "code",
   "execution_count": 422,
   "metadata": {
    "collapsed": true
   },
   "outputs": [],
   "source": [
    "bright_img = brighten(IMG,1,0,0.3)\n",
    "params_new = get_params(bright_img)"
   ]
  },
  {
   "cell_type": "code",
   "execution_count": 423,
   "metadata": {
    "collapsed": false,
    "deletable": true,
    "editable": true
   },
   "outputs": [],
   "source": [
    "mask = np.expand_dims(segment(bright_img,params_new,0.7,0.1,0.7,8),-1)\n",
    "mask = mod_mask(mask,0,0.2)\n",
    "show_images([(\"orig\",IMG),(\"bright\",bright_img),(\"mask\",mask)])"
   ]
  },
  {
   "cell_type": "code",
   "execution_count": 424,
   "metadata": {
    "collapsed": false
   },
   "outputs": [],
   "source": [
    "new_img = (mask*IMG+(1-mask)*WHITE).astype(np.uint8)"
   ]
  },
  {
   "cell_type": "code",
   "execution_count": 425,
   "metadata": {
    "collapsed": true
   },
   "outputs": [],
   "source": [
    "show_images([(\"a\",new_img)])"
   ]
  },
  {
   "cell_type": "code",
   "execution_count": 133,
   "metadata": {
    "collapsed": false,
    "deletable": true,
    "editable": true
   },
   "outputs": [],
   "source": []
  },
  {
   "cell_type": "code",
   "execution_count": 96,
   "metadata": {
    "collapsed": true,
    "deletable": true,
    "editable": true
   },
   "outputs": [],
   "source": [
    "mask[mask<0.2]=0"
   ]
  },
  {
   "cell_type": "code",
   "execution_count": null,
   "metadata": {
    "collapsed": true
   },
   "outputs": [],
   "source": []
  }
 ],
 "metadata": {
  "kernelspec": {
   "display_name": "Python 3",
   "language": "python",
   "name": "python3"
  },
  "language_info": {
   "codemirror_mode": {
    "name": "ipython",
    "version": 3
   },
   "file_extension": ".py",
   "mimetype": "text/x-python",
   "name": "python",
   "nbconvert_exporter": "python",
   "pygments_lexer": "ipython3",
   "version": "3.5.2"
  }
 },
 "nbformat": 4,
 "nbformat_minor": 2
}
