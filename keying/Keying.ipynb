{
 "cells": [
  {
   "cell_type": "code",
   "execution_count": 1,
   "metadata": {
    "collapsed": true,
    "deletable": true,
    "editable": true
   },
   "outputs": [],
   "source": [
    "import cv2\n",
    "import numpy as np"
   ]
  },
  {
   "cell_type": "code",
   "execution_count": 2,
   "metadata": {
    "collapsed": true,
    "deletable": true,
    "editable": true
   },
   "outputs": [],
   "source": [
    "from matplotlib import pyplot as plt"
   ]
  },
  {
   "cell_type": "code",
   "execution_count": 3,
   "metadata": {
    "collapsed": true,
    "deletable": true,
    "editable": true
   },
   "outputs": [],
   "source": [
    "def show_images(lst):\n",
    "    while True:\n",
    "        for i in lst:\n",
    "            cv2.imshow(i[0],i[1])\n",
    "        ret = cv2.waitKey(0)\n",
    "        if ret==27:\n",
    "            break\n",
    "    cv2.destroyAllWindows()"
   ]
  },
  {
   "cell_type": "markdown",
   "metadata": {
    "deletable": true,
    "editable": true
   },
   "source": [
    "## Testing basic H threshold"
   ]
  },
  {
   "cell_type": "code",
   "execution_count": 4,
   "metadata": {
    "collapsed": true
   },
   "outputs": [],
   "source": [
    "# video_path = \"./ignore/lab_green_screen/suyash_oneplus.mp4\"\n",
    "# video_path = \"./ignore/lab_green_screen/ankesh_oneplus.mp4\"\n",
    "video_path = \"./ignore/Green Screen/JA0A7025.MOV\""
   ]
  },
  {
   "cell_type": "code",
   "execution_count": 5,
   "metadata": {
    "collapsed": true
   },
   "outputs": [],
   "source": [
    "# img = cv2.imread(\"./image/img01.png\")\n",
    "# cap = cv2.VideoCapture(\"./video/test.mp4\")\n",
    "cap = cv2.VideoCapture(video_path)\n",
    "# cap = cv2.VideoCapture(\"./ignore/lab_green_screen/ankesh_oneplus.mp4\")"
   ]
  },
  {
   "cell_type": "code",
   "execution_count": 6,
   "metadata": {
    "collapsed": false
   },
   "outputs": [],
   "source": [
    "ret,IMG = cap.read()\n",
    "IMG = cv2.resize(IMG,(IMG.shape[1]//2,IMG.shape[0]//2))"
   ]
  },
  {
   "cell_type": "code",
   "execution_count": 7,
   "metadata": {
    "collapsed": true
   },
   "outputs": [],
   "source": [
    "show_images([(\"a\",IMG)])"
   ]
  },
  {
   "cell_type": "code",
   "execution_count": null,
   "metadata": {
    "collapsed": true,
    "deletable": true,
    "editable": true
   },
   "outputs": [],
   "source": [
    "def segment_hls(orig,params,al,bet,gm,mult):\n",
    "    h_mean,h_std,l_mean,l_std,s_mean,s_std = params\n",
    "    hls_im = cv2.cvtColor(orig,cv2.COLOR_BGR2HLS)\n",
    "    a = (hls_im[:,:,0]>(h_mean-mult*h_std))\n",
    "    b = (hls_im[:,:,0]<(h_mean+mult*h_std))\n",
    "    h_mask = a*b\n",
    "    a = (hls_im[:,:,1]>(l_mean-mult*l_std))\n",
    "    b = (hls_im[:,:,1]<(l_mean+mult*l_std))\n",
    "    l_mask = a*b\n",
    "    a = (hls_im[:,:,2]>(s_mean-mult*s_std))\n",
    "    b = (hls_im[:,:,2]<(s_mean+mult*s_std))\n",
    "    s_mask = a*b\n",
    "    hls_mask = (al*h_mask + bet*l_mask + gm*s_mask)\n",
    "#     return hls_mask\n",
    "    hls_mask = hls_mask.clip(0.0,1.0)\n",
    "    hls_mask = 1 - hls_mask\n",
    "    return hls_mask"
   ]
  },
  {
   "cell_type": "code",
   "execution_count": 8,
   "metadata": {
    "collapsed": true
   },
   "outputs": [],
   "source": [
    "def segment_ycrcb(orig,params,tola,tolb):\n",
    "    ycrcb_im = cv2.cvtColor(orig,cv2.COLOR_BGR2YCrCb)\n",
    "    Cb_key,Cr_key = params\n",
    "    blue = ycrcb_im[:,:,2]\n",
    "    red = ycrcb_im[:,:,1]\n",
    "\n",
    "    diffbsq = (blue-Cb_key)**2\n",
    "    diffrsq = (red-Cr_key)**2\n",
    "    dist = np.sqrt(diffbsq+diffrsq).astype(np.float32)\n",
    "\n",
    "    mask = ((dist-tola)/(tolb-tola)).astype(np.float32)\n",
    "    mask[dist<tola]=0.0\n",
    "    mask[dist>tolb]=1.0\n",
    "    return mask"
   ]
  },
  {
   "cell_type": "code",
   "execution_count": 9,
   "metadata": {
    "collapsed": true
   },
   "outputs": [],
   "source": [
    "def get_region(img):\n",
    "    r = cv2.selectROI(\"Select window of background\",img=img,fromCenter=False,showCrossair=False)\n",
    "    cv2.destroyAllWindows()\n",
    "    return r"
   ]
  },
  {
   "cell_type": "code",
   "execution_count": null,
   "metadata": {
    "collapsed": true
   },
   "outputs": [],
   "source": [
    "def get_params_hls(img,region):\n",
    "    hls_img = cv2.cvtColor(img,cv2.COLOR_BGR2HLS).astype(np.float32)\n",
    "    r = [int(x) for x in region]\n",
    "    region = hls_img[int(region[1]):int(region[1]+region[3]), int(region[0]):int(region[0]+region[2])]\n",
    "    h_mean,l_mean,s_mean = np.mean(region,axis=(0,1))\n",
    "    h_std,l_std,s_std = np.std(region,axis=(0,1))\n",
    "    return [h_mean,h_std,l_mean,l_std,s_mean,s_std]"
   ]
  },
  {
   "cell_type": "code",
   "execution_count": 10,
   "metadata": {
    "collapsed": true,
    "deletable": true,
    "editable": true
   },
   "outputs": [],
   "source": [
    "def get_params_ycrcb(img,region):\n",
    "    ycrcb_img = cv2.cvtColor(img,cv2.COLOR_BGR2YCrCb).astype(np.float32)\n",
    "    cv2.destroyAllWindows()\n",
    "    r = [int(x) for x in region]\n",
    "    region = ycrcb_img[int(region[1]):int(region[1]+region[3]), int(region[0]):int(region[0]+region[2])]\n",
    "    y_mean,Cr_mean,Cb_mean = np.mean(region,axis=(0,1))\n",
    "    y_std,Cr_std,Cb_std = np.std(region,axis=(0,1))\n",
    "    return [Cb_mean,Cr_mean]"
   ]
  },
  {
   "cell_type": "markdown",
   "metadata": {
    "deletable": true,
    "editable": true
   },
   "source": [
    "##### alpha,beta,gamma correction"
   ]
  },
  {
   "cell_type": "code",
   "execution_count": null,
   "metadata": {
    "collapsed": true,
    "deletable": true,
    "editable": true
   },
   "outputs": [],
   "source": [
    "def brighten(img,alpha,beta,gamma):\n",
    "    cor_img = img.astype(np.float32)\n",
    "    bright_img = alpha*cor_img + beta\n",
    "    gam_cor = np.power(bright_img/255,gamma)*255\n",
    "    bright_img = gam_cor.clip(0,255).astype(np.uint8)\n",
    "    return bright_img"
   ]
  },
  {
   "cell_type": "code",
   "execution_count": 16,
   "metadata": {
    "collapsed": true,
    "deletable": true,
    "editable": true
   },
   "outputs": [],
   "source": [
    "def mod_mask(mask,low,high):\n",
    "    mask = mask.copy()\n",
    "    mask[mask>high]=1.0\n",
    "    mask[mask<low] = 0.0\n",
    "    return mask"
   ]
  },
  {
   "cell_type": "code",
   "execution_count": 11,
   "metadata": {
    "collapsed": true
   },
   "outputs": [],
   "source": [
    "region = get_region(IMG)"
   ]
  },
  {
   "cell_type": "code",
   "execution_count": 12,
   "metadata": {
    "collapsed": false,
    "deletable": true,
    "editable": true
   },
   "outputs": [],
   "source": [
    "WHITE = np.ones(IMG.shape,dtype=np.int8)*255"
   ]
  },
  {
   "cell_type": "code",
   "execution_count": null,
   "metadata": {
    "collapsed": true
   },
   "outputs": [],
   "source": [
    "param_hls = get_params_hls(IMG,region)"
   ]
  },
  {
   "cell_type": "code",
   "execution_count": 13,
   "metadata": {
    "collapsed": false,
    "deletable": true,
    "editable": true
   },
   "outputs": [],
   "source": [
    "param_ycrcb = get_params_ycrcb(IMG,region)"
   ]
  },
  {
   "cell_type": "code",
   "execution_count": null,
   "metadata": {
    "collapsed": true
   },
   "outputs": [],
   "source": [
    "show_images([(\"a\",IMG)])"
   ]
  },
  {
   "cell_type": "code",
   "execution_count": null,
   "metadata": {
    "collapsed": true
   },
   "outputs": [],
   "source": []
  },
  {
   "cell_type": "code",
   "execution_count": 24,
   "metadata": {
    "collapsed": false,
    "deletable": true,
    "editable": true
   },
   "outputs": [],
   "source": [
    "cap = cv2.VideoCapture(video_path)\n",
    "ret,img = cap.read()\n",
    "# Define the codec and create VideoWriter object\n",
    "fourcc = cv2.VideoWriter_fourcc(*'XVID')\n",
    "vid = cv2.VideoWriter('madhur.avi',fourcc, 20.0, (img.shape[1]//2,IMG.shape[0]//2))\n",
    "\n",
    "while(True):\n",
    "    ret,img = cap.read()\n",
    "    if not ret:\n",
    "        break\n",
    "    img = cv2.resize(img,(img.shape[1]//2,img.shape[0]//2))\n",
    "#     bright_img = brighten(img,1,0,0.3)\n",
    "#     mask = np.expand_dims(segment_hls(bright_img,params,0.7,0.1,0.7,8),-1)\n",
    "#     mask = np.expand_dims(segment(bright_img,params,0.7,0.1,0.1,8),-1)\n",
    "#     mask = mod_mask(mask,0.8,0.8)\n",
    "    mask = np.expand_dims(segment_ycrcb(img,param_ycrcb,12,25),-1)\n",
    "    mask = mod_mask(mask,0.95,0.95)\n",
    "    new_img = (mask*img+(1-mask)*WHITE).astype(np.uint8)\n",
    "#     show_images([(\"img\",ans),(\"masked\",new_img)])\n",
    "#     cv2.imshow(\"img\",img)\n",
    "    cv2.imshow(\"masked\",new_img)\n",
    "    cv2.imshow(\"mask\",mask)\n",
    "    vid.write(new_img)\n",
    "    ret = cv2.waitKey(1)\n",
    "    if ret==27:\n",
    "        break\n",
    "cv2.destroyAllWindows()\n",
    "vid.release()"
   ]
  },
  {
   "cell_type": "code",
   "execution_count": null,
   "metadata": {
    "collapsed": true
   },
   "outputs": [],
   "source": []
  },
  {
   "cell_type": "code",
   "execution_count": null,
   "metadata": {
    "collapsed": true
   },
   "outputs": [],
   "source": []
  },
  {
   "cell_type": "code",
   "execution_count": null,
   "metadata": {
    "collapsed": true
   },
   "outputs": [],
   "source": []
  },
  {
   "cell_type": "code",
   "execution_count": null,
   "metadata": {
    "collapsed": true
   },
   "outputs": [],
   "source": []
  },
  {
   "cell_type": "code",
   "execution_count": null,
   "metadata": {
    "collapsed": true
   },
   "outputs": [],
   "source": []
  },
  {
   "cell_type": "code",
   "execution_count": null,
   "metadata": {
    "collapsed": true
   },
   "outputs": [],
   "source": [
    "show_images([(\"orig\",IMG)])"
   ]
  },
  {
   "cell_type": "code",
   "execution_count": null,
   "metadata": {
    "collapsed": false
   },
   "outputs": [],
   "source": [
    "bright_img = brighten(IMG,1,0,0.3)\n",
    "params_new = get_params(bright_img)"
   ]
  },
  {
   "cell_type": "code",
   "execution_count": null,
   "metadata": {
    "collapsed": false,
    "deletable": true,
    "editable": true
   },
   "outputs": [],
   "source": [
    "mask = np.expand_dims(segment(bright_img,params_new,0.7,0.1,0.7,8),-1)\n",
    "mask = mod_mask(mask,0,0.2)\n",
    "show_images([(\"orig\",IMG),(\"bright\",bright_img),(\"mask\",mask)])"
   ]
  },
  {
   "cell_type": "code",
   "execution_count": null,
   "metadata": {
    "collapsed": true
   },
   "outputs": [],
   "source": [
    "r_channel, g_channel, b_channel = cv2.split(IMG)"
   ]
  },
  {
   "cell_type": "code",
   "execution_count": null,
   "metadata": {
    "collapsed": false
   },
   "outputs": [],
   "source": [
    "alpha = (mask*255).astype(np.uint8)"
   ]
  },
  {
   "cell_type": "code",
   "execution_count": null,
   "metadata": {
    "collapsed": false
   },
   "outputs": [],
   "source": [
    "alpha.shape"
   ]
  },
  {
   "cell_type": "code",
   "execution_count": null,
   "metadata": {
    "collapsed": true
   },
   "outputs": [],
   "source": [
    "img_RGBA = cv2.merge((r_channel, g_channel, b_channel, alpha))"
   ]
  },
  {
   "cell_type": "code",
   "execution_count": null,
   "metadata": {
    "collapsed": false
   },
   "outputs": [],
   "source": [
    "cv2.imwrite(\"test.png\", img_RGBA)"
   ]
  },
  {
   "cell_type": "code",
   "execution_count": null,
   "metadata": {
    "collapsed": true
   },
   "outputs": [],
   "source": []
  },
  {
   "cell_type": "code",
   "execution_count": null,
   "metadata": {
    "collapsed": false,
    "deletable": true,
    "editable": true
   },
   "outputs": [],
   "source": [
    "new_img = (mask*IMG+(1-mask)*WHITE).astype(np.uint8)"
   ]
  },
  {
   "cell_type": "code",
   "execution_count": null,
   "metadata": {
    "collapsed": true
   },
   "outputs": [],
   "source": [
    "show_images([(\"a\",new_img)])"
   ]
  },
  {
   "cell_type": "code",
   "execution_count": null,
   "metadata": {
    "collapsed": false,
    "deletable": true,
    "editable": true
   },
   "outputs": [],
   "source": []
  },
  {
   "cell_type": "code",
   "execution_count": null,
   "metadata": {
    "collapsed": true,
    "deletable": true,
    "editable": true
   },
   "outputs": [],
   "source": [
    "mask[mask<0.2]=0"
   ]
  },
  {
   "cell_type": "code",
   "execution_count": null,
   "metadata": {
    "collapsed": true
   },
   "outputs": [],
   "source": []
  }
 ],
 "metadata": {
  "kernelspec": {
   "display_name": "Python 3",
   "language": "python",
   "name": "python3"
  },
  "language_info": {
   "codemirror_mode": {
    "name": "ipython",
    "version": 3
   },
   "file_extension": ".py",
   "mimetype": "text/x-python",
   "name": "python",
   "nbconvert_exporter": "python",
   "pygments_lexer": "ipython3",
   "version": "3.5.2"
  }
 },
 "nbformat": 4,
 "nbformat_minor": 2
}
