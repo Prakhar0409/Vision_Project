{
 "cells": [
  {
   "cell_type": "code",
   "execution_count": 1,
   "metadata": {
    "collapsed": true,
    "deletable": true,
    "editable": true
   },
   "outputs": [],
   "source": [
    "import cv2\n",
    "import numpy as np"
   ]
  },
  {
   "cell_type": "code",
   "execution_count": 2,
   "metadata": {
    "collapsed": true,
    "deletable": true,
    "editable": true
   },
   "outputs": [],
   "source": [
    "from matplotlib import pyplot as plt"
   ]
  },
  {
   "cell_type": "code",
   "execution_count": 3,
   "metadata": {
    "collapsed": true,
    "deletable": true,
    "editable": true
   },
   "outputs": [],
   "source": [
    "def show_images(lst):\n",
    "    while True:\n",
    "        for i in lst:\n",
    "            cv2.imshow(i[0],i[1])\n",
    "        ret = cv2.waitKey(0)\n",
    "        if ret==27:\n",
    "            break\n",
    "    cv2.destroyAllWindows()"
   ]
  },
  {
   "cell_type": "markdown",
   "metadata": {
    "deletable": true,
    "editable": true
   },
   "source": [
    "## Testing basic H threshold"
   ]
  },
  {
   "cell_type": "code",
   "execution_count": 82,
   "metadata": {
    "collapsed": true,
    "deletable": true,
    "editable": true
   },
   "outputs": [],
   "source": [
    "# img = cv2.imread(\"./image/img01.png\")\n",
    "cap = cv2.VideoCapture(\"./video/test.mp4\")\n",
    "ret,img = cap.read()"
   ]
  },
  {
   "cell_type": "code",
   "execution_count": null,
   "metadata": {
    "collapsed": true,
    "deletable": true,
    "editable": true
   },
   "outputs": [],
   "source": []
  },
  {
   "cell_type": "code",
   "execution_count": null,
   "metadata": {
    "collapsed": true,
    "deletable": true,
    "editable": true
   },
   "outputs": [],
   "source": [
    "show_images([(\"a\",img)])"
   ]
  },
  {
   "cell_type": "code",
   "execution_count": 122,
   "metadata": {
    "collapsed": true,
    "deletable": true,
    "editable": true
   },
   "outputs": [],
   "source": [
    "def segment(orig,params,al,bet,gm):\n",
    "    h_mean,h_std,l_mean,l_std,s_mean,s_std = params\n",
    "    hls_im = cv2.cvtColor(orig,cv2.COLOR_BGR2HLS)\n",
    "    a = (hls_im[:,:,0]>(h_mean-2.5*h_std))\n",
    "    b = (hls_im[:,:,0]<(h_mean+2.5*h_std))\n",
    "#     h_mask = a*b\n",
    "    h_mask = np.logical_not(a*b)\n",
    "    a = (hls_im[:,:,1]>(l_mean-2.5*l_std))\n",
    "    b = (hls_im[:,:,1]<(l_mean+2.5*l_std))\n",
    "#     l_mask = a*b\n",
    "    l_mask = np.logical_not(a*b)\n",
    "    a = (hls_im[:,:,2]>(s_mean-2.5*s_std))\n",
    "    b = (hls_im[:,:,2]<(s_mean+2.5*s_std))\n",
    "#     s_mask = a*b\n",
    "    s_mask = np.logical_not(a*b)\n",
    "#     hls_mask = h_mask*l_mask*s_mask\n",
    "    hls_mask = al*h_mask + bet*l_mask + gm*s_mask\n",
    "#     him = np.copy(img_reg)\n",
    "#     lim = np.copy(img_reg)\n",
    "#     sim = np.copy(img_reg)\n",
    "#     im = np.copy(img_reg)\n",
    "#     him[h_mask==True]=255\n",
    "#     lim[l_mask==True]=255\n",
    "#     sim[s_mask==True]=255\n",
    "#     im[hls_mask==True]=255\n",
    "#     show_images([(\"orig\",img),(\"im\",im),(\"sim\",sim),(\"lim\",lim),(\"him\",him)])\n",
    "#     return np.logical_not(hls_mask)*1.0\n",
    "    return hls_mask"
   ]
  },
  {
   "cell_type": "code",
   "execution_count": 83,
   "metadata": {
    "collapsed": false,
    "deletable": true,
    "editable": true
   },
   "outputs": [],
   "source": [
    "hls_img = cv2.cvtColor(img,cv2.COLOR_BGR2HLS).astype(np.float32)\n",
    "r = cv2.selectROI(\"Select window of background\",img=img,fromCenter=False,showCrossair=False)\n",
    "cv2.destroyAllWindows()\n",
    "r = [int(x) for x in r]\n",
    "region = hls_img[int(r[1]):int(r[1]+r[3]), int(r[0]):int(r[0]+r[2])]\n",
    "img_region = img[int(r[1]):int(r[1]+r[3]), int(r[0]):int(r[0]+r[2])]\n",
    "h_mean,l_mean,s_mean = np.mean(region,axis=(0,1))\n",
    "h_std,l_std,s_std = np.std(region,axis=(0,1))\n",
    "params = [h_mean,h_std,l_mean,l_std,s_mean,s_std]"
   ]
  },
  {
   "cell_type": "code",
   "execution_count": 123,
   "metadata": {
    "collapsed": false,
    "deletable": true,
    "editable": true
   },
   "outputs": [],
   "source": [
    "WHITE = np.ones(img.shape,dtype=np.int8)*255"
   ]
  },
  {
   "cell_type": "code",
   "execution_count": 147,
   "metadata": {
    "collapsed": false,
    "deletable": true,
    "editable": true
   },
   "outputs": [],
   "source": [
    "cap = cv2.VideoCapture(\"./video/test.mp4\")\n",
    "while(True):\n",
    "    ret,img = cap.read()\n",
    "    if not ret:\n",
    "        break\n",
    "    mask = np.expand_dims(segment(img,params,0.4,0.3,0.3),-1)\n",
    "    mask[mask>0.15]=1.0\n",
    "    mask[mask<0.15]=0.0\n",
    "    new_img = (mask*img+(1-mask)*WHITE).astype(np.uint8)\n",
    "#     show_images([(\"img\",ans),(\"masked\",new_img)])\n",
    "    cv2.imshow(\"img\",img)\n",
    "    cv2.imshow(\"masked\",new_img)\n",
    "    ret = cv2.waitKey(1)\n",
    "    if ret==27:\n",
    "        break\n",
    "cv2.destroyAllWindows()"
   ]
  },
  {
   "cell_type": "code",
   "execution_count": 143,
   "metadata": {
    "collapsed": false,
    "deletable": true,
    "editable": true
   },
   "outputs": [],
   "source": [
    "mask = np.expand_dims(segment(img,params,0.4,0.5,0.1),-1)\n",
    "show_images([(\"a\",mask)])"
   ]
  },
  {
   "cell_type": "code",
   "execution_count": 145,
   "metadata": {
    "collapsed": false,
    "deletable": true,
    "editable": true
   },
   "outputs": [],
   "source": [
    "show_images([(\"a\",mask)])"
   ]
  },
  {
   "cell_type": "code",
   "execution_count": 144,
   "metadata": {
    "collapsed": false,
    "deletable": true,
    "editable": true
   },
   "outputs": [],
   "source": [
    "mask[mask>0.2]=1.0"
   ]
  },
  {
   "cell_type": "code",
   "execution_count": null,
   "metadata": {
    "collapsed": true
   },
   "outputs": [],
   "source": []
  }
 ],
 "metadata": {
  "kernelspec": {
   "display_name": "Python 3",
   "language": "python",
   "name": "python3"
  },
  "language_info": {
   "codemirror_mode": {
    "name": "ipython",
    "version": 3
   },
   "file_extension": ".py",
   "mimetype": "text/x-python",
   "name": "python",
   "nbconvert_exporter": "python",
   "pygments_lexer": "ipython3",
   "version": "3.5.2"
  }
 },
 "nbformat": 4,
 "nbformat_minor": 2
}
